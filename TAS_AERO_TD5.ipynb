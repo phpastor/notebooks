{
 "cells": [
  {
   "cell_type": "markdown",
   "metadata": {},
   "source": [
    "###  ISA"
   ]
  },
  {
   "cell_type": "code",
   "execution_count": 28,
   "metadata": {},
   "outputs": [],
   "source": [
    "import numpy as np\n",
    "\n",
    "deg2rad = np.pi/180\n",
    "grav = 9.81\n",
    "R = 287.05          # Gas constant (Nm/kgK)\n",
    "\n",
    "def rho(h):\n",
    "    lr = -6.5/1000      # gradient de température (°K/m)\n",
    "    T0 = 273.15 + 15\n",
    "    rho0 = 1.225\n",
    "    if h <= 11000 :\n",
    "        T = T0 + lr * h\n",
    "        rho = rho0 * (T/T0)**(-(1 + grav / (lr * R)))\n",
    "    else :\n",
    "        rho = rho0 * ((T0 + lr * 11000)/T0)**(-(1 + grav / (lr * R))) * np.exp(-grav * (h - 11000) / (R * (T0 + lr * 11000)))\n",
    "    return rho"
   ]
  },
  {
   "cell_type": "markdown",
   "metadata": {},
   "source": [
    "### AIRBUS A300 A/C Data\n",
    "\n"
   ]
  },
  {
   "cell_type": "code",
   "execution_count": 29,
   "metadata": {},
   "outputs": [
    {
     "name": "stdout",
     "output_type": "stream",
     "text": [
      "[ -0.92 -18.6    5.89  -0.56   0.13] [ -0.92 -18.6    5.89  -0.56   0.13]\n",
      "[ 0.8175 -1.37   -7.18   -0.02   -0.56  ] [ 0.8175 -1.37   -7.18   -0.02   -0.56  ]\n"
     ]
    }
   ],
   "source": [
    "S_ref = 240\n",
    "l_ref = 6.5\n",
    "hG = 0.5 \n",
    "Ixx = 5.88e6\n",
    "Izz = 11.1e6\n",
    "Ixz = 0\n",
    "\n",
    "M = 120000 \n",
    "\n",
    "Cx0 = 0.02\n",
    "ki = 0.06\n",
    "Cz_alpha = 5.0\n",
    "alpha0 = -2.0 * deg2rad\n",
    "\n",
    "Cy_beta = -0.65\n",
    "Cy_dl = 0.0\n",
    "Cy_dn = 0.19\n",
    "\n",
    "Cl_beta = -0.92\n",
    "Cl_p = -18.6\n",
    "Cl_r = 5.89\n",
    "Cl_dl = -0.56\n",
    "Cl_dn = 0.13\n",
    "\n",
    "Cn_beta_25 = 0.98\n",
    "Cn_p = -1.37\n",
    "Cn_r = -7.18\n",
    "Cn_dl = -0.02\n",
    "Cn_dn = -0.56\n",
    "\n",
    "\n",
    "Cy_x = np.array([Cy_beta, 0, 0, Cy_dl, Cy_dn])\n",
    "Cl_x = np.array([Cl_beta, Cl_p, Cl_r, Cl_dl, Cl_dn])\n",
    "Cn_beta = Cn_beta_25 + (hG - 0.25) * Cy_beta\n",
    "Cn_x = np.array([Cn_beta, Cn_p, Cn_r, Cn_dl, Cn_dn])\n",
    "\n",
    "D = 1 - Ixz*Ixz / Ixx*Izz\n",
    "Cl_x_tilde = (Cl_x + (Ixz/Izz) * Cn_x) / D\n",
    "Cn_x_tilde = (Cn_x + (Ixz/Ixx) * Cl_x) / D\n",
    "\n",
    "print(Cl_x_tilde, Cl_x)\n",
    "print(Cn_x_tilde, Cn_x)"
   ]
  },
  {
   "cell_type": "markdown",
   "metadata": {},
   "source": [
    "### Longitudinal Equilibrium"
   ]
  },
  {
   "cell_type": "code",
   "execution_count": 30,
   "metadata": {},
   "outputs": [
    {
     "name": "stdout",
     "output_type": "stream",
     "text": [
      "rho = 1.225\n",
      "Cz = 0.513, Cx = 0.036, finesse = 14.332\n",
      "alpha = 3.87 deg\n",
      "Thrust = 82.14 kN\n"
     ]
    }
   ],
   "source": [
    "h = 0\n",
    "V = 125\n",
    "\n",
    "rho = rho(h)\n",
    "print(f'rho = {rho:.3f}')\n",
    "\n",
    "q_dyn = 0.5 * rho * V**2\n",
    "\n",
    "Cz = M * grav / (q_dyn * S_ref)\n",
    "Cx = Cx0 + ki * Cz**2\n",
    "f = Cz / Cx\n",
    "print(f'Cz = {Cz:.3f}, Cx = {Cx:.3f}, finesse = {f:.3f}')\n",
    "\n",
    "alpha = Cz / Cz_alpha + alpha0\n",
    "print(f'alpha = {alpha/deg2rad:.2f} deg')\n",
    "\n",
    "Thrust = M * grav / f \n",
    "print(f'Thrust = {Thrust/1000:.2f} kN')\n"
   ]
  },
  {
   "cell_type": "code",
   "execution_count": 31,
   "metadata": {},
   "outputs": [],
   "source": [
    "def dyn(x):\n",
    "    beta, r, p, phi, dl, dn = x\n",
    "    theta = alpha * np.cos(phi) + beta * np.sin(phi)\n",
    "    Cy = Cy_x @ np.array([beta, p, r, dl, dn])\n",
    "    Cl = Cl_x_tilde @ (np.array([beta, p, r, dl, dn]) * np.array([1, (l_ref / V), (l_ref / V), 1, 1]))\n",
    "    Cn = Cn_x_tilde @ (np.array([beta, p, r, dl, dn]) * np.array([1, (l_ref / V), (l_ref / V), 1, 1]))\n",
    "    d_beta = -r * np.cos(alpha) + p * np.sin(alpha) + (q_dyn * S_ref * Cy + M * grav * np.cos(theta) * np.sin(phi))/ (M * V * np.cos(beta))\n",
    "    d_r = q_dyn * S_ref * l_ref * Cn / Izz\n",
    "    d_p = q_dyn * S_ref * l_ref * Cl / Ixx\n",
    "    d_phi = p + r * np.cos(phi) * np.tan(theta)\n",
    "    return np.array([d_beta, d_r, d_p, d_phi])\n",
    "\n",
    "def jac(V, alpha, rho):\n",
    "    q_dyn = 0.5 * rho * V**2\n",
    "    y_x = q_dyn * S_ref * Cy_x / (M * V)\n",
    "    l_x = q_dyn * S_ref * l_ref * (Cl_x_tilde * np.array([1, (l_ref / V), (l_ref / V), 1, 1])) / Ixx \n",
    "    n_x = q_dyn * S_ref * l_ref * (Cn_x_tilde * np.array([1, (l_ref / V), (l_ref / V), 1, 1])) / Izz\n",
    "    theta = alpha\n",
    "    A = np.array([[y_x[0], -np.cos(alpha), np.sin(alpha), grav * np.cos(theta) / V],\n",
    "                  [n_x[0], n_x[2], n_x[1], 0],\n",
    "                  [l_x[0], l_x[2], l_x[1], 0],\n",
    "                  [0, np.tan(theta), 1, 0]])\n",
    "    B = np.array([[y_x[3], y_x[4]],\n",
    "                  [n_x[3], n_x[4]],\n",
    "                  [l_x[3], l_x[4]],\n",
    "                  [0, 0]])\n",
    "    return A, B\n"
   ]
  },
  {
   "cell_type": "code",
   "execution_count": 32,
   "metadata": {},
   "outputs": [
    {
     "name": "stdout",
     "output_type": "stream",
     "text": [
      "r = 0.76°/s, p = -0.05°/s\n",
      "dl = 0.38°, dn = -0.52°\n"
     ]
    }
   ],
   "source": [
    "### coordinate turn\n",
    "from scipy.optimize import fsolve\n",
    "\n",
    "phi = 10 * deg2rad\n",
    "beta = 0\n",
    "\n",
    "def func(y):\n",
    "    r, p, dl, dn = y\n",
    "    x = np.array([beta, r, p, phi, dl, dn])\n",
    "    return dyn(x)\n",
    "\n",
    "r, p, dl, dn = fsolve(func, [0, 0, 0, 0]) / deg2rad\n",
    "\n",
    "print(f'r = {r:.2f}°/s, p = {p:.2f}°/s')\n",
    "print(f'dl = {dl:.2f}°, dn = {dn:.2f}°')\n"
   ]
  },
  {
   "cell_type": "code",
   "execution_count": 33,
   "metadata": {},
   "outputs": [
    {
     "name": "stdout",
     "output_type": "stream",
     "text": [
      "r = 0.74°/s, p = -0.05°/s\n",
      "dl = -0.06°, beta = 0.33°\n"
     ]
    }
   ],
   "source": [
    "### turn with dl only\n",
    "from scipy.optimize import fsolve\n",
    "\n",
    "phi = 10 * deg2rad\n",
    "dn = 0\n",
    "\n",
    "def func(y):\n",
    "    r, p, dl, beta = y\n",
    "    x = np.array([beta, r, p, phi, dl, dn])\n",
    "    return dyn(x)\n",
    "\n",
    "r, p, dl, beta = fsolve(func, [0, 0, 0, 0]) / deg2rad\n",
    "\n",
    "print(f'r = {r:.2f}°/s, p = {p:.2f}°/s')\n",
    "print(f'dl = {dl:.2f}°, beta = {beta:.2f}°')"
   ]
  },
  {
   "cell_type": "code",
   "execution_count": 34,
   "metadata": {},
   "outputs": [
    {
     "name": "stdout",
     "output_type": "stream",
     "text": [
      "r = 0.75°/s, p = -0.05°/s\n",
      "dn = -0.07°, beta = 0.29°\n"
     ]
    }
   ],
   "source": [
    "### turn with dn (rudder) only\n",
    "from scipy.optimize import fsolve\n",
    "\n",
    "phi = 10 * deg2rad\n",
    "dl = 0\n",
    "\n",
    "def func(y):\n",
    "    r, p, dn, beta = y\n",
    "    x = np.array([beta, r, p, phi, dl, dn])\n",
    "    return dyn(x)\n",
    "\n",
    "r, p, dn, beta = fsolve(func, [0, 0, 0, 0]) / deg2rad\n",
    "\n",
    "print(f'r = {r:.2f}°/s, p = {p:.2f}°/s')\n",
    "print(f'dn = {dn:.2f}°, beta = {beta:.2f}°')"
   ]
  },
  {
   "cell_type": "code",
   "execution_count": null,
   "metadata": {},
   "outputs": [
    {
     "name": "stdout",
     "output_type": "stream",
     "text": [
      "Vitesse = 125.00 m/s, alpha = 3.87°\n",
      "[-2.43088277+0.j        -0.31185158+1.1111779j -0.31185158-1.1111779j\n",
      " -0.00290208+0.j       ]\n",
      "\n",
      " --- ROULIS PUR ---\n",
      "période = 0.41 s\n",
      "\n",
      " --- DUTCH ROLL ---\n",
      "période = 5.65 s\n",
      "amortissment = 0.27\n",
      "\n",
      " --- MODE SPIRAL ---\n",
      "période = 344.58 s\n"
     ]
    }
   ],
   "source": [
    "\n",
    "print(f'Vitesse = {V:.2f} m/s, alpha = {alpha/deg2rad:.2f}°')\n",
    "A, B = jac(V, alpha, rho)\n",
    "\n",
    "vp = np.linalg.eig(A)[0]\n",
    "\n",
    "print('\\n --- ROULIS PUR ---')\n",
    "periode = -1/vp[0].real \n",
    "print(f'période = {periode:.2f} s')\n",
    "\n",
    "print('\\n --- DUTCH ROLL ---')\n",
    "lam = -vp[1].real\n",
    "wn = vp[1].imag\n",
    "w0 = np.sqrt(wn**2 + lam**2)\n",
    "zeta = lam / w0\n",
    "periode = 2*np.pi / wn\n",
    "print(f'période = {periode:.2f} s')\n",
    "print(f'amortissment = {zeta:.2f}')\n",
    "\n",
    "print('\\n --- MODE SPIRAL ---')\n",
    "periode = -1/vp[3].real \n",
    "print(f'période = {periode:.2f} s')\n",
    "\n"
   ]
  },
  {
   "cell_type": "code",
   "execution_count": null,
   "metadata": {},
   "outputs": [
    {
     "name": "stdout",
     "output_type": "stream",
     "text": [
      "[-2.41151904+0.j         -0.68145582+0.94517141j -0.68145582-0.94517141j\n",
      " -0.03626679+0.j        ]\n",
      "\n",
      " --- ROULIS PUR ---\n",
      "période = 0.41 s\n",
      "\n",
      " --- DUTCH ROLL ---\n",
      "période = 6.65 s\n",
      "amortissment = 0.58\n",
      "\n",
      " --- MODE SPIRAL ---\n",
      "période = 27.57 s\n"
     ]
    }
   ],
   "source": [
    "### CLOSE LOOP\n",
    "\n",
    "k_beta = 0\n",
    "k_r= 1\n",
    "\n",
    "K = np.array([[0, 0, 0, 0], \n",
    "              [k_beta, k_r, 0, 0]])\n",
    "\n",
    "A_BF = A + B@K\n",
    "\n",
    "vp = np.linalg.eig(A_BF)[0]\n",
    "\n",
    "print('\\n --- ROULIS PUR ---')\n",
    "periode = -1/vp[0].real \n",
    "print(f'période = {periode:.2f} s')\n",
    "\n",
    "print('\\n --- DUTCH ROLL ---')\n",
    "lam = -vp[1].real\n",
    "wn = vp[1].imag\n",
    "w0 = np.sqrt(wn**2 + lam**2)\n",
    "zeta = lam / w0\n",
    "periode = 2*np.pi / wn\n",
    "print(f'période = {periode:.2f} s')\n",
    "print(f'amortissment = {zeta:.2f}')\n",
    "\n",
    "print('\\n --- MODE SPIRAL ---')\n",
    "periode = -1/vp[3].real \n",
    "print(f'période = {periode:.2f} s')\n"
   ]
  }
 ],
 "metadata": {
  "kernelspec": {
   "display_name": "base",
   "language": "python",
   "name": "python3"
  },
  "language_info": {
   "codemirror_mode": {
    "name": "ipython",
    "version": 3
   },
   "file_extension": ".py",
   "mimetype": "text/x-python",
   "name": "python",
   "nbconvert_exporter": "python",
   "pygments_lexer": "ipython3",
   "version": "3.11.4"
  }
 },
 "nbformat": 4,
 "nbformat_minor": 2
}
