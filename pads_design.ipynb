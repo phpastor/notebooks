{
  "nbformat": 4,
  "nbformat_minor": 0,
  "metadata": {
    "colab": {
      "name": "pads_design.ipynb",
      "provenance": [],
      "authorship_tag": "ABX9TyOHG8QQSLgRi5sTXdAXwOoW",
      "include_colab_link": true
    },
    "kernelspec": {
      "name": "python3",
      "display_name": "Python 3"
    },
    "language_info": {
      "name": "python"
    }
  },
  "cells": [
    {
      "cell_type": "markdown",
      "metadata": {
        "id": "view-in-github",
        "colab_type": "text"
      },
      "source": [
        "<a href=\"https://colab.research.google.com/github/phpastor/notebooks/blob/main/pads_design.ipynb\" target=\"_parent\"><img src=\"https://colab.research.google.com/assets/colab-badge.svg\" alt=\"Open In Colab\"/></a>"
      ]
    },
    {
      "cell_type": "markdown",
      "source": [
        "# Dimesionnement des moteurs\n",
        "* Force de traction = 1 kg\n",
        "* Longueur suspente = 1 métre\n",
        "* vitesse : 1/100% en 2 secondes\n",
        "\n",
        "* diametre winch = 32 mm = 0,032 m"
      ],
      "metadata": {
        "id": "BkfZauXQheiJ"
      }
    },
    {
      "cell_type": "code",
      "source": [
        "Diametre = 0.042 # m\n",
        "Longueur = 1 # m\n",
        "Tact = 2 # s\n",
        "Force  = 1 * 9.81 # N\n",
        "Couple = Force * Diametre / 2 # N.m\n",
        "Vitesse = Longueur / Tact\n",
        "Rotation = 2 * Vitesse / Diametre\n",
        "\n",
        "print(f\" Couple = {Couple / 9.81 * 100 :.2f} kg.cm\")"
      ],
      "metadata": {
        "colab": {
          "base_uri": "https://localhost:8080/"
        },
        "id": "OEn_VYKKi1up",
        "outputId": "5c209652-ca7f-4f3b-9b43-9dca2fb91112"
      },
      "execution_count": 12,
      "outputs": [
        {
          "output_type": "stream",
          "name": "stdout",
          "text": [
            " Couple = 2.10 kg.cm\n"
          ]
        }
      ]
    },
    {
      "cell_type": "code",
      "source": [
        "Nact = 6\n",
        "Lmax = Nact * Diametre * 3.14159\n",
        "Lmax"
      ],
      "metadata": {
        "colab": {
          "base_uri": "https://localhost:8080/"
        },
        "id": "NdZbvUHOkOg3",
        "outputId": "54ac6392-39cf-4178-8a91-19def04da39d"
      },
      "execution_count": 6,
      "outputs": [
        {
          "output_type": "execute_result",
          "data": {
            "text/plain": [
              "0.79168068"
            ]
          },
          "metadata": {},
          "execution_count": 6
        }
      ]
    }
  ]
}